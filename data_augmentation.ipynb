{
 "cells": [
  {
   "cell_type": "code",
   "execution_count": 1,
   "metadata": {},
   "outputs": [],
   "source": [
    "import numpy as np\n",
    "import librosa\n",
    "import librosa.display\n",
    "\n",
    "import matplotlib.pyplot as plt\n",
    "import os\n",
    "import math"
   ]
  },
  {
   "cell_type": "code",
   "execution_count": 2,
   "metadata": {},
   "outputs": [],
   "source": [
    "def extract_spectrogram(file_path,save_dir, type=\"npy\"):\n",
    "    try:\n",
    "        y, sr = librosa.load(file_path, sr=None)\n",
    "        print(file_path, \"sampling rate is\", sr)\n",
    "        y = librosa.stft(y)\n",
    "        spectrogram = librosa.amplitude_to_db(np.abs(y), ref=np.max)\n",
    "        \n",
    "        if (type==\"npy\"):\n",
    "            save_path = save_dir+os.path.splitext(os.path.basename(file_path))[0]+\"_spec.npy\"\n",
    "            np.save(save_path, spectrogram)\n",
    "            return\n",
    "        \n",
    "        if (type==\"jpg\"):\n",
    "            save_path = save_dir+os.path.splitext(os.path.basename(file_path))[0]+\"_spec.jpg\"\n",
    "            plt.figure(figsize=(10, 4))\n",
    "#             librosa.display.specshow(spectrogram, sr=sr)\n",
    "            librosa.display.specshow(spectrogram, y_axis='log', x_axis='time', sr=sr)\n",
    "            plt.axis('off')\n",
    "            plt.tight_layout()\n",
    "            # sppectrogram .jpg 저장\n",
    "            plt.savefig(save_path, bbox_inches='tight', pad_inches=0)\n",
    "            plt.close()\n",
    "        \n",
    "    except Exception as e:\n",
    "        print(f\"Error extracting spectrogram for {file_path}: {e}\")\n",
    "        return None\n",
    "    \n",
    "\n",
    "def extract_chromagram_stft(file_path,save_dir, type=\"npy\"):\n",
    "    try:\n",
    "        y, sr = librosa.load(file_path, sr=None)\n",
    "        chromagram = librosa.feature.chroma_stft(y=y, sr=sr)\n",
    "        \n",
    "        if (type==\"npy\"):\n",
    "            save_path = save_dir+os.path.splitext(os.path.basename(file_path))[0]+\"_chro.npy\"\n",
    "            np.save(save_path, chromagram)\n",
    "            return\n",
    "        \n",
    "        if (type==\"jpg\"):\n",
    "            save_path = save_dir+os.path.splitext(os.path.basename(file_path))[0]+\"_chro.jpg\"\n",
    "            plt.figure(figsize=(10, 4))\n",
    "            librosa.display.specshow(chromagram, sr=sr)\n",
    "            plt.axis('off')\n",
    "            plt.tight_layout()\n",
    "            # mfcc.jpg 저장\n",
    "            plt.savefig(save_path, bbox_inches='tight', pad_inches=0)\n",
    "            plt.close()\n",
    "            return\n",
    "  \n",
    "    except Exception as e:\n",
    "        print(f\"Error extracting chromagram for {file_path}: {e}\")\n",
    "        return None\n",
    "        "
   ]
  },
  {
   "cell_type": "code",
   "execution_count": 3,
   "metadata": {},
   "outputs": [],
   "source": [
    "def extract_mfcc(file_path, save_dir, type=\"npy\"):\n",
    "    try:\n",
    "        audio, sr = librosa.load(file_path, sr=None)\n",
    "        mfcc = librosa.feature.mfcc(y=audio, sr=sr, n_mfcc=13)\n",
    "        \n",
    "        if (type==\"npy\"):\n",
    "            save_path = save_dir+os.path.splitext(os.path.basename(file_path))[0]+\"_mfcc.npy\"\n",
    "            np.save(save_path, mfcc)\n",
    "            return\n",
    "            \n",
    "        if (type==\"jpg\"):\n",
    "            save_path = save_dir+os.path.splitext(os.path.basename(file_path))[0]+\"_mfcc.jpg\"\n",
    "            plt.figure(figsize=(10, 4))\n",
    "            librosa.display.specshow(mfcc, sr=sr)\n",
    "            plt.axis('off')\n",
    "            plt.tight_layout()\n",
    "            # mfcc.jpg 저장\n",
    "            plt.savefig(save_path, bbox_inches='tight', pad_inches=0)\n",
    "            plt.close()\n",
    "            return\n",
    "        \n",
    "    except Exception as e:\n",
    "        print(f\"Error extracting MFCC for {file_path}: {e}\")\n",
    "        return None"
   ]
  },
  {
   "cell_type": "code",
   "execution_count": 4,
   "metadata": {},
   "outputs": [
    {
     "name": "stdout",
     "output_type": "stream",
     "text": [
      "./sound_sample/001.mp3 sampling rate is 44100\n"
     ]
    },
    {
     "ename": "AttributeError",
     "evalue": "'NoneType' object has no attribute 'shape'",
     "output_type": "error",
     "traceback": [
      "\u001b[1;31m---------------------------------------------------------------------------\u001b[0m",
      "\u001b[1;31mAttributeError\u001b[0m                            Traceback (most recent call last)",
      "Cell \u001b[1;32mIn[4], line 7\u001b[0m\n\u001b[0;32m      5\u001b[0m \u001b[38;5;28;01mif\u001b[39;00m \u001b[38;5;28mlen\u001b[39m(files) \u001b[38;5;241m>\u001b[39m \u001b[38;5;241m0\u001b[39m:\n\u001b[0;32m      6\u001b[0m     \u001b[38;5;28;01mfor\u001b[39;00m file_name \u001b[38;5;129;01min\u001b[39;00m files:\n\u001b[1;32m----> 7\u001b[0m         \u001b[38;5;28mprint\u001b[39m(extract_spectrogram(root_dir\u001b[38;5;241m+\u001b[39m\u001b[38;5;124m\"\u001b[39m\u001b[38;5;124m/\u001b[39m\u001b[38;5;124m\"\u001b[39m\u001b[38;5;241m+\u001b[39mfile_name, save_dir,\u001b[38;5;124m\"\u001b[39m\u001b[38;5;124mnpy\u001b[39m\u001b[38;5;124m\"\u001b[39m)\u001b[38;5;241m.\u001b[39mshape)\n\u001b[0;32m      8\u001b[0m         extract_spectrogram(root_dir\u001b[38;5;241m+\u001b[39m\u001b[38;5;124m\"\u001b[39m\u001b[38;5;124m/\u001b[39m\u001b[38;5;124m\"\u001b[39m\u001b[38;5;241m+\u001b[39mfile_name, save_dir,\u001b[38;5;124m\"\u001b[39m\u001b[38;5;124mjpg\u001b[39m\u001b[38;5;124m\"\u001b[39m)\n\u001b[0;32m      9\u001b[0m         extract_chromagram_stft(root_dir\u001b[38;5;241m+\u001b[39m\u001b[38;5;124m\"\u001b[39m\u001b[38;5;124m/\u001b[39m\u001b[38;5;124m\"\u001b[39m\u001b[38;5;241m+\u001b[39mfile_name, save_dir,\u001b[38;5;124m\"\u001b[39m\u001b[38;5;124mnpy\u001b[39m\u001b[38;5;124m\"\u001b[39m)\n",
      "\u001b[1;31mAttributeError\u001b[0m: 'NoneType' object has no attribute 'shape'"
     ]
    }
   ],
   "source": [
    "save_dir = \"./save_dir/\"\n",
    "\n",
    "root_dir = \"./sound_sample\"\n",
    "for (root,dirs,files) in os.walk(root_dir):\n",
    "    if len(files) > 0:\n",
    "        for file_name in files:\n",
    "            print(extract_spectrogram(root_dir+\"/\"+file_name, save_dir,\"npy\").shape)\n",
    "            extract_spectrogram(root_dir+\"/\"+file_name, save_dir,\"jpg\")\n",
    "            extract_chromagram_stft(root_dir+\"/\"+file_name, save_dir,\"npy\")\n",
    "            extract_chromagram_stft(root_dir+\"/\"+file_name, save_dir,\"jpg\")\n",
    "            extract_mfcc(root_dir+\"/\"+file_name, save_dir,\"npy\")\n",
    "            extract_mfcc(root_dir+\"/\"+file_name, save_dir,\"jpg\")\n",
    "    \n",
    "    "
   ]
  }
 ],
 "metadata": {
  "kernelspec": {
   "display_name": "original",
   "language": "python",
   "name": "python3"
  },
  "language_info": {
   "codemirror_mode": {
    "name": "ipython",
    "version": 3
   },
   "file_extension": ".py",
   "mimetype": "text/x-python",
   "name": "python",
   "nbconvert_exporter": "python",
   "pygments_lexer": "ipython3",
   "version": "3.12.4"
  }
 },
 "nbformat": 4,
 "nbformat_minor": 2
}
